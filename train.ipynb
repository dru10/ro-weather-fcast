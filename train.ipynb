{
 "cells": [
  {
   "cell_type": "code",
   "execution_count": 74,
   "metadata": {},
   "outputs": [
    {
     "name": "stderr",
     "output_type": "stream",
     "text": [
      "/tmp/ipykernel_354/3428451221.py:106: SettingWithCopyWarning: \n",
      "A value is trying to be set on a copy of a slice from a DataFrame.\n",
      "Try using .loc[row_indexer,col_indexer] = value instead\n",
      "\n",
      "See the caveats in the documentation: https://pandas.pydata.org/pandas-docs/stable/user_guide/indexing.html#returning-a-view-versus-a-copy\n",
      "  valid_df[misc_cont_cols] = scaler.transform(valid_df[misc_cont_cols])\n"
     ]
    }
   ],
   "source": [
    "import numpy as np\n",
    "import pandas as pd\n",
    "import torch\n",
    "from sklearn.preprocessing import MinMaxScaler\n",
    "\n",
    "# Bucharest record min and max temperatures, adjusted according to source\n",
    "# Source: https://www.extremeweatherwatch.com/cities/bucharest/lowest-temperatures\n",
    "BUC_MIN_TEMP = -35\n",
    "BUC_MAX_TEMP = 45\n",
    "\n",
    "N_LAGS = 7\n",
    "\n",
    "\n",
    "def clean_data(df):\n",
    "    # Set the date as the index\n",
    "    index = pd.to_datetime(df[[\"Year\", \"Month\", \"Day\"]])\n",
    "    df.set_index(index, inplace=True)\n",
    "\n",
    "    # Clean rows\n",
    "    # Sea Level Pressure, gets dropped, too many 0, not enough relevant info\n",
    "    corrupted = df[df[\"Sea_Level_Pressure\"] == \"True\"]\n",
    "    df.drop(index=corrupted.index, inplace=True)\n",
    "    df.drop(\"Sea_Level_Pressure\", axis=1, inplace=True)\n",
    "\n",
    "    # Humidity Average, 11 rows with NaN, can drop them\n",
    "    corrupted = df[df[\"Humidity_Avg\"].isna()]\n",
    "    df.drop(index=corrupted.index, inplace=True)\n",
    "\n",
    "    # Precipitation Total, fill Nan with 0\n",
    "    df[\"Precipitation_Total\"].fillna(\"0\", inplace=True)\n",
    "\n",
    "    # Visibility Average, gets dropped, too many NaN values > 10%\n",
    "    df.drop(\"Visibility_Avg\", axis=1, inplace=True)\n",
    "\n",
    "    # Wind Max, contains mostly NaN values, can drop\n",
    "    # We have Wind Sustained Max which is clean\n",
    "    df.drop(\"Wind_Max\", axis=1, inplace=True)\n",
    "\n",
    "    return df\n",
    "\n",
    "\n",
    "def normalize_temp_data(df):\n",
    "    # Create new dataframe\n",
    "    scaled = df.copy(deep=True)\n",
    "\n",
    "    # Scale with record min and max\n",
    "    temp_scaler = MinMaxScaler()\n",
    "    temp_scaler.fit(np.array((BUC_MIN_TEMP, BUC_MAX_TEMP)).reshape(-1, 1))\n",
    "\n",
    "    cols = temp_cols\n",
    "    temp_data = np.array(df[cols]).T\n",
    "    scaled = df.copy(deep=True)\n",
    "    temp_scaled = [temp_scaler.transform(X.reshape(-1, 1)) for X in temp_data]\n",
    "    for idx, col in enumerate(cols):\n",
    "        scaled[col] = temp_scaled[idx]\n",
    "    return scaled, temp_scaler\n",
    "\n",
    "\n",
    "def normalize_data(df):\n",
    "    scaler = MinMaxScaler()\n",
    "    cols = misc_cont_cols\n",
    "    df[cols] = scaler.fit_transform(df[cols])\n",
    "    return df, scaler\n",
    "\n",
    "\n",
    "def build_set(ds, lags=10):\n",
    "    train = []\n",
    "    true = []\n",
    "    for idx in range(len(ds) - lags):\n",
    "        current = ds[idx : idx + lags]\n",
    "        pred = ds[idx + lags][temp_avg_idx]\n",
    "        train.append(current)\n",
    "        true.append(pred)\n",
    "\n",
    "    train = torch.cat([t for t in train]).reshape(-1, lags, ds.shape[1])\n",
    "    true = torch.tensor(true).reshape(-1, 1)\n",
    "    return train, true\n",
    "\n",
    "\n",
    "df = pd.read_csv(\"data.csv\")\n",
    "df = clean_data(df)\n",
    "\n",
    "# Boolean columns\n",
    "cat_cols = [col for col in df.columns if col.startswith(\"Is\")]\n",
    "# Continous columns\n",
    "cont_cols = list(\n",
    "    set(df.columns) - set(cat_cols) - set([\"Year\", \"Month\", \"Day\"])\n",
    ")\n",
    "# Temperature columns\n",
    "temp_cols = [col for col in cont_cols if col.startswith(\"Temperature\")]\n",
    "# Miscellaneous continuous columns -> Humidity, Precipitation, Wind\n",
    "misc_cont_cols = list(set(cont_cols) - set(temp_cols))\n",
    "\n",
    "# Set correct datatypes\n",
    "df[cont_cols] = df[cont_cols].astype(\"float\")\n",
    "\n",
    "# Scale temperatures on the whole dataset\n",
    "scaled, temp_scaler = normalize_temp_data(df)\n",
    "\n",
    "valid_start = \"2022-01-01\"\n",
    "train_df = scaled[:valid_start][:-1]\n",
    "valid_df = scaled[valid_start:]\n",
    "\n",
    "# Scale the rest of the continous columns\n",
    "train_df, scaler = normalize_data(train_df)\n",
    "valid_df[misc_cont_cols] = scaler.transform(valid_df[misc_cont_cols])\n",
    "\n",
    "# Convert to tensors\n",
    "train_cont = torch.tensor(np.stack([train_df[cont_cols]]), dtype=torch.float)\n",
    "train_cat = torch.tensor(np.stack([train_df[cat_cols]]), dtype=torch.float)\n",
    "valid_cont = torch.tensor(np.stack([valid_df[cont_cols]]), dtype=torch.float)\n",
    "valid_cat = torch.tensor(np.stack([valid_df[cat_cols]]), dtype=torch.float)\n",
    "\n",
    "# Create a train and valid dataset\n",
    "train_ds = torch.cat((train_cont, train_cat), dim=2).squeeze()\n",
    "valid_ds = torch.cat((valid_cont, valid_cat), dim=2).squeeze()\n",
    "\n",
    "temp_avg_idx = cont_cols.index(\"Temperature_Avg\")\n",
    "\n",
    "x_train, y_train = build_set(train_ds, N_LAGS)\n",
    "\n",
    "# Add the last N_LAGS elements to valid_ds to ensure continuity\n",
    "x_valid, y_valid = build_set(torch.cat((train_ds[-N_LAGS:], valid_ds)), N_LAGS)\n"
   ]
  },
  {
   "cell_type": "code",
   "execution_count": 76,
   "metadata": {},
   "outputs": [
    {
     "data": {
      "text/plain": [
       "tensor([[0.6216, 0.3419, 0.0000, 0.6150, 0.4750, 0.5325, 0.3318, 1.0000, 0.0000,\n",
       "         0.0000, 0.0000],\n",
       "        [0.9459, 0.4791, 0.0000, 0.5725, 0.4250, 0.4475, 0.3079, 1.0000, 1.0000,\n",
       "         0.0000, 0.0000],\n",
       "        [0.9865, 0.4349, 0.0195, 0.4400, 0.4250, 0.4363, 0.3662, 1.0000, 0.0000,\n",
       "         0.0000, 0.0000],\n",
       "        [1.0000, 0.1465, 0.0332, 0.4412, 0.4250, 0.4338, 0.0867, 1.0000, 1.0000,\n",
       "         0.0000, 1.0000],\n",
       "        [0.9865, 0.1977, 0.0000, 0.4375, 0.4162, 0.4275, 0.1136, 1.0000, 1.0000,\n",
       "         0.0000, 1.0000],\n",
       "        [1.0000, 0.2070, 0.0371, 0.4638, 0.4275, 0.4475, 0.1390, 1.0000, 0.0000,\n",
       "         0.0000, 0.0000],\n",
       "        [1.0000, 0.2767, 0.0039, 0.5088, 0.4500, 0.4737, 0.2242, 1.0000, 0.0000,\n",
       "         0.0000, 1.0000]])"
      ]
     },
     "execution_count": 76,
     "metadata": {},
     "output_type": "execute_result"
    }
   ],
   "source": [
    "train_ds[-N_LAGS:]"
   ]
  },
  {
   "cell_type": "code",
   "execution_count": 77,
   "metadata": {},
   "outputs": [
    {
     "data": {
      "text/plain": [
       "tensor([[0.9324, 0.1372, 0.0019, 0.6000, 0.4625, 0.5238, 0.0867, 1.0000, 0.0000,\n",
       "         0.0000, 1.0000],\n",
       "        [0.8514, 0.1605, 0.0000, 0.5625, 0.4350, 0.5075, 0.1659, 0.0000, 0.0000,\n",
       "         0.0000, 1.0000],\n",
       "        [0.8514, 0.2628, 0.0000, 0.5813, 0.4650, 0.5225, 0.2242, 0.0000, 0.0000,\n",
       "         0.0000, 1.0000],\n",
       "        [0.7027, 0.2279, 0.0000, 0.6012, 0.4663, 0.5200, 0.1659, 0.0000, 0.0000,\n",
       "         0.0000, 0.0000],\n",
       "        [0.7838, 0.2535, 0.0000, 0.6263, 0.4750, 0.5288, 0.2242, 0.0000, 0.0000,\n",
       "         0.0000, 0.0000],\n",
       "        [0.7297, 0.2535, 0.0000, 0.6388, 0.4500, 0.5312, 0.2242, 1.0000, 0.0000,\n",
       "         0.0000, 0.0000],\n",
       "        [0.7568, 0.3140, 0.0000, 0.5638, 0.4563, 0.4750, 0.3318, 1.0000, 0.0000,\n",
       "         0.0000, 0.0000]])"
      ]
     },
     "execution_count": 77,
     "metadata": {},
     "output_type": "execute_result"
    }
   ],
   "source": [
    "valid_ds[:N_LAGS]"
   ]
  },
  {
   "cell_type": "code",
   "execution_count": 78,
   "metadata": {},
   "outputs": [
    {
     "data": {
      "text/plain": [
       "tensor([[[0.6892, 0.1093, 0.0000, 0.4375, 0.3500, 0.3862, 0.1136, 0.0000,\n",
       "          0.0000, 0.0000, 0.0000],\n",
       "         [0.6757, 0.3698, 0.0000, 0.5400, 0.3663, 0.4512, 0.3318, 0.0000,\n",
       "          0.0000, 0.0000, 0.0000],\n",
       "         [0.6216, 0.3419, 0.0000, 0.6150, 0.4750, 0.5325, 0.3318, 1.0000,\n",
       "          0.0000, 0.0000, 0.0000],\n",
       "         [0.9459, 0.4791, 0.0000, 0.5725, 0.4250, 0.4475, 0.3079, 1.0000,\n",
       "          1.0000, 0.0000, 0.0000],\n",
       "         [0.9865, 0.4349, 0.0195, 0.4400, 0.4250, 0.4363, 0.3662, 1.0000,\n",
       "          0.0000, 0.0000, 0.0000],\n",
       "         [1.0000, 0.1465, 0.0332, 0.4412, 0.4250, 0.4338, 0.0867, 1.0000,\n",
       "          1.0000, 0.0000, 1.0000],\n",
       "         [0.9865, 0.1977, 0.0000, 0.4375, 0.4162, 0.4275, 0.1136, 1.0000,\n",
       "          1.0000, 0.0000, 1.0000]],\n",
       "\n",
       "        [[0.6757, 0.3698, 0.0000, 0.5400, 0.3663, 0.4512, 0.3318, 0.0000,\n",
       "          0.0000, 0.0000, 0.0000],\n",
       "         [0.6216, 0.3419, 0.0000, 0.6150, 0.4750, 0.5325, 0.3318, 1.0000,\n",
       "          0.0000, 0.0000, 0.0000],\n",
       "         [0.9459, 0.4791, 0.0000, 0.5725, 0.4250, 0.4475, 0.3079, 1.0000,\n",
       "          1.0000, 0.0000, 0.0000],\n",
       "         [0.9865, 0.4349, 0.0195, 0.4400, 0.4250, 0.4363, 0.3662, 1.0000,\n",
       "          0.0000, 0.0000, 0.0000],\n",
       "         [1.0000, 0.1465, 0.0332, 0.4412, 0.4250, 0.4338, 0.0867, 1.0000,\n",
       "          1.0000, 0.0000, 1.0000],\n",
       "         [0.9865, 0.1977, 0.0000, 0.4375, 0.4162, 0.4275, 0.1136, 1.0000,\n",
       "          1.0000, 0.0000, 1.0000],\n",
       "         [1.0000, 0.2070, 0.0371, 0.4638, 0.4275, 0.4475, 0.1390, 1.0000,\n",
       "          0.0000, 0.0000, 0.0000]]])"
      ]
     },
     "execution_count": 78,
     "metadata": {},
     "output_type": "execute_result"
    }
   ],
   "source": [
    "x_train[-2:]"
   ]
  },
  {
   "cell_type": "code",
   "execution_count": 79,
   "metadata": {},
   "outputs": [
    {
     "data": {
      "text/plain": [
       "tensor([[0.4475],\n",
       "        [0.4737]])"
      ]
     },
     "execution_count": 79,
     "metadata": {},
     "output_type": "execute_result"
    }
   ],
   "source": [
    "y_train[-2:]"
   ]
  },
  {
   "cell_type": "code",
   "execution_count": 82,
   "metadata": {},
   "outputs": [
    {
     "data": {
      "text/plain": [
       "tensor([[0.9324, 0.1372, 0.0019, 0.6000, 0.4625, 0.5238, 0.0867, 1.0000, 0.0000,\n",
       "         0.0000, 1.0000],\n",
       "        [0.8514, 0.1605, 0.0000, 0.5625, 0.4350, 0.5075, 0.1659, 0.0000, 0.0000,\n",
       "         0.0000, 1.0000],\n",
       "        [0.8514, 0.2628, 0.0000, 0.5813, 0.4650, 0.5225, 0.2242, 0.0000, 0.0000,\n",
       "         0.0000, 1.0000],\n",
       "        [0.7027, 0.2279, 0.0000, 0.6012, 0.4663, 0.5200, 0.1659, 0.0000, 0.0000,\n",
       "         0.0000, 0.0000],\n",
       "        [0.7838, 0.2535, 0.0000, 0.6263, 0.4750, 0.5288, 0.2242, 0.0000, 0.0000,\n",
       "         0.0000, 0.0000],\n",
       "        [0.7297, 0.2535, 0.0000, 0.6388, 0.4500, 0.5312, 0.2242, 1.0000, 0.0000,\n",
       "         0.0000, 0.0000],\n",
       "        [0.7568, 0.3140, 0.0000, 0.5638, 0.4563, 0.4750, 0.3318, 1.0000, 0.0000,\n",
       "         0.0000, 0.0000]])"
      ]
     },
     "execution_count": 82,
     "metadata": {},
     "output_type": "execute_result"
    }
   ],
   "source": [
    "valid_ds[:N_LAGS]"
   ]
  },
  {
   "cell_type": "code",
   "execution_count": 80,
   "metadata": {},
   "outputs": [
    {
     "data": {
      "text/plain": [
       "tensor([[[0.6216, 0.3419, 0.0000, 0.6150, 0.4750, 0.5325, 0.3318, 1.0000,\n",
       "          0.0000, 0.0000, 0.0000],\n",
       "         [0.9459, 0.4791, 0.0000, 0.5725, 0.4250, 0.4475, 0.3079, 1.0000,\n",
       "          1.0000, 0.0000, 0.0000],\n",
       "         [0.9865, 0.4349, 0.0195, 0.4400, 0.4250, 0.4363, 0.3662, 1.0000,\n",
       "          0.0000, 0.0000, 0.0000],\n",
       "         [1.0000, 0.1465, 0.0332, 0.4412, 0.4250, 0.4338, 0.0867, 1.0000,\n",
       "          1.0000, 0.0000, 1.0000],\n",
       "         [0.9865, 0.1977, 0.0000, 0.4375, 0.4162, 0.4275, 0.1136, 1.0000,\n",
       "          1.0000, 0.0000, 1.0000],\n",
       "         [1.0000, 0.2070, 0.0371, 0.4638, 0.4275, 0.4475, 0.1390, 1.0000,\n",
       "          0.0000, 0.0000, 0.0000],\n",
       "         [1.0000, 0.2767, 0.0039, 0.5088, 0.4500, 0.4737, 0.2242, 1.0000,\n",
       "          0.0000, 0.0000, 1.0000]],\n",
       "\n",
       "        [[0.9459, 0.4791, 0.0000, 0.5725, 0.4250, 0.4475, 0.3079, 1.0000,\n",
       "          1.0000, 0.0000, 0.0000],\n",
       "         [0.9865, 0.4349, 0.0195, 0.4400, 0.4250, 0.4363, 0.3662, 1.0000,\n",
       "          0.0000, 0.0000, 0.0000],\n",
       "         [1.0000, 0.1465, 0.0332, 0.4412, 0.4250, 0.4338, 0.0867, 1.0000,\n",
       "          1.0000, 0.0000, 1.0000],\n",
       "         [0.9865, 0.1977, 0.0000, 0.4375, 0.4162, 0.4275, 0.1136, 1.0000,\n",
       "          1.0000, 0.0000, 1.0000],\n",
       "         [1.0000, 0.2070, 0.0371, 0.4638, 0.4275, 0.4475, 0.1390, 1.0000,\n",
       "          0.0000, 0.0000, 0.0000],\n",
       "         [1.0000, 0.2767, 0.0039, 0.5088, 0.4500, 0.4737, 0.2242, 1.0000,\n",
       "          0.0000, 0.0000, 1.0000],\n",
       "         [0.9324, 0.1372, 0.0019, 0.6000, 0.4625, 0.5238, 0.0867, 1.0000,\n",
       "          0.0000, 0.0000, 1.0000]]])"
      ]
     },
     "execution_count": 80,
     "metadata": {},
     "output_type": "execute_result"
    }
   ],
   "source": [
    "x_valid[:2]"
   ]
  },
  {
   "cell_type": "code",
   "execution_count": 83,
   "metadata": {},
   "outputs": [
    {
     "data": {
      "text/plain": [
       "tensor([[0.5238],\n",
       "        [0.5075]])"
      ]
     },
     "execution_count": 83,
     "metadata": {},
     "output_type": "execute_result"
    }
   ],
   "source": [
    "y_valid[:2]"
   ]
  },
  {
   "cell_type": "code",
   "execution_count": 84,
   "metadata": {},
   "outputs": [
    {
     "name": "stdout",
     "output_type": "stream",
     "text": [
      "torch.Size([1788, 7, 11])\n",
      "torch.Size([361, 7, 11])\n"
     ]
    }
   ],
   "source": [
    "print(x_train.shape)\n",
    "print(x_valid.shape)"
   ]
  },
  {
   "cell_type": "markdown",
   "metadata": {},
   "source": [
    "## Build LSTM model"
   ]
  },
  {
   "cell_type": "code",
   "execution_count": 91,
   "metadata": {},
   "outputs": [
    {
     "data": {
      "text/plain": [
       "torch.Size([7, 11])"
      ]
     },
     "execution_count": 91,
     "metadata": {},
     "output_type": "execute_result"
    }
   ],
   "source": [
    "x_train[0].shape"
   ]
  },
  {
   "cell_type": "code",
   "execution_count": 90,
   "metadata": {},
   "outputs": [
    {
     "data": {
      "text/plain": [
       "tensor([0.2925])"
      ]
     },
     "execution_count": 90,
     "metadata": {},
     "output_type": "execute_result"
    }
   ],
   "source": [
    "y_train[0]"
   ]
  },
  {
   "cell_type": "code",
   "execution_count": 106,
   "metadata": {},
   "outputs": [],
   "source": [
    "import torch.nn as nn\n",
    "\n",
    "NUM_LAYERS = 3\n",
    "HIDDEN_SIZE = 128\n",
    "\n",
    "lstm = nn.LSTM(input_size=train_ds.shape[1], hidden_size=HIDDEN_SIZE, num_layers=NUM_LAYERS)\n",
    "hidden = (\n",
    "    torch.zeros(NUM_LAYERS, HIDDEN_SIZE),\n",
    "    torch.zeros(NUM_LAYERS, HIDDEN_SIZE),\n",
    ")\n",
    "\n",
    "out, hidden = lstm(x_train[0], hidden)\n",
    "\n",
    "dropout = nn.Dropout(0.5)\n",
    "\n",
    "out = dropout(out)\n",
    "\n",
    "fc = nn.Linear(in_features=HIDDEN_SIZE, out_features=1)\n",
    "\n",
    "out = fc(out)"
   ]
  },
  {
   "cell_type": "code",
   "execution_count": 107,
   "metadata": {},
   "outputs": [
    {
     "data": {
      "text/plain": [
       "torch.Size([7, 1])"
      ]
     },
     "execution_count": 107,
     "metadata": {},
     "output_type": "execute_result"
    }
   ],
   "source": [
    "out.shape"
   ]
  },
  {
   "cell_type": "code",
   "execution_count": 109,
   "metadata": {},
   "outputs": [
    {
     "data": {
      "text/plain": [
       "tensor([[-0.0717],\n",
       "        [-0.0736],\n",
       "        [-0.0753],\n",
       "        [-0.0826],\n",
       "        [-0.1186],\n",
       "        [-0.0416],\n",
       "        [-0.0884]], grad_fn=<AddmmBackward0>)"
      ]
     },
     "execution_count": 109,
     "metadata": {},
     "output_type": "execute_result"
    }
   ],
   "source": [
    "out"
   ]
  },
  {
   "cell_type": "code",
   "execution_count": 140,
   "metadata": {},
   "outputs": [],
   "source": [
    "class MyLSTM(nn.Module):\n",
    "    def __init__(self, input_size, hidden_size=128, num_layers=4, output_size=1, dropout=0.5):\n",
    "        super().__init__()\n",
    "\n",
    "        self.num_layers = num_layers\n",
    "        self.hidden_size = hidden_size\n",
    "\n",
    "        self.lstm = nn.LSTM(input_size=input_size, hidden_size=hidden_size, num_layers=num_layers, dropout=dropout)\n",
    "        self.dropout = nn.Dropout(dropout)\n",
    "        self.fc = nn.Linear(in_features=hidden_size, out_features=output_size)\n",
    "\n",
    "    def forward(self, X, hidden):\n",
    "        out, hidden = self.lstm(X, hidden)\n",
    "        out = self.dropout(out)\n",
    "        out = self.fc(out)\n",
    "        # Only care about last prediction\n",
    "        return out[-1], hidden\n",
    "\n",
    "    def initialize_hidden(self):\n",
    "        hidden = (\n",
    "            torch.zeros(self.num_layers, self.hidden_size),\n",
    "            torch.zeros(self.num_layers, self.hidden_size),\n",
    "        )\n",
    "        return hidden"
   ]
  },
  {
   "cell_type": "code",
   "execution_count": 141,
   "metadata": {},
   "outputs": [
    {
     "data": {
      "text/plain": [
       "MyLSTM(\n",
       "  (lstm): LSTM(11, 128, num_layers=4, dropout=0.5)\n",
       "  (dropout): Dropout(p=0.5, inplace=False)\n",
       "  (fc): Linear(in_features=128, out_features=1, bias=True)\n",
       ")"
      ]
     },
     "execution_count": 141,
     "metadata": {},
     "output_type": "execute_result"
    }
   ],
   "source": [
    "model = MyLSTM(input_size=train_ds.shape[1])\n",
    "model"
   ]
  },
  {
   "cell_type": "code",
   "execution_count": 142,
   "metadata": {},
   "outputs": [
    {
     "name": "stdout",
     "output_type": "stream",
     "text": [
      "torch.Size([512, 11])\n",
      "5632\n",
      "torch.Size([512, 128])\n",
      "65536\n",
      "torch.Size([512])\n",
      "512\n",
      "torch.Size([512])\n",
      "512\n",
      "torch.Size([512, 128])\n",
      "65536\n",
      "torch.Size([512, 128])\n",
      "65536\n",
      "torch.Size([512])\n",
      "512\n",
      "torch.Size([512])\n",
      "512\n",
      "torch.Size([512, 128])\n",
      "65536\n",
      "torch.Size([512, 128])\n",
      "65536\n",
      "torch.Size([512])\n",
      "512\n",
      "torch.Size([512])\n",
      "512\n",
      "torch.Size([512, 128])\n",
      "65536\n",
      "torch.Size([512, 128])\n",
      "65536\n",
      "torch.Size([512])\n",
      "512\n",
      "torch.Size([512])\n",
      "512\n",
      "torch.Size([1, 128])\n",
      "128\n",
      "torch.Size([1])\n",
      "1\n",
      "---------\n",
      "Number of parameters: 468609\n"
     ]
    }
   ],
   "source": [
    "count = 0\n",
    "for p in model.parameters():\n",
    "    print(p.shape)\n",
    "    if p.requires_grad:\n",
    "        print(p.numel())\n",
    "        count += p.numel()\n",
    "print('---------\\nNumber of parameters:', count)"
   ]
  },
  {
   "cell_type": "code",
   "execution_count": 143,
   "metadata": {},
   "outputs": [],
   "source": [
    "hidden = model.initialize_hidden()\n",
    "out, hidden = model.forward(x_train[0], hidden)"
   ]
  },
  {
   "cell_type": "code",
   "execution_count": 144,
   "metadata": {},
   "outputs": [
    {
     "data": {
      "text/plain": [
       "tensor([-0.0869], grad_fn=<SelectBackward0>)"
      ]
     },
     "execution_count": 144,
     "metadata": {},
     "output_type": "execute_result"
    }
   ],
   "source": [
    "out"
   ]
  },
  {
   "cell_type": "markdown",
   "metadata": {},
   "source": [
    "## Train the model"
   ]
  }
 ],
 "metadata": {
  "kernelspec": {
   "display_name": "venv",
   "language": "python",
   "name": "python3"
  },
  "language_info": {
   "codemirror_mode": {
    "name": "ipython",
    "version": 3
   },
   "file_extension": ".py",
   "mimetype": "text/x-python",
   "name": "python",
   "nbconvert_exporter": "python",
   "pygments_lexer": "ipython3",
   "version": "3.8.10"
  }
 },
 "nbformat": 4,
 "nbformat_minor": 2
}
