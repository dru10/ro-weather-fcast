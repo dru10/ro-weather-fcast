{
 "cells": [
  {
   "cell_type": "code",
   "execution_count": 1,
   "metadata": {},
   "outputs": [
    {
     "name": "stderr",
     "output_type": "stream",
     "text": [
      "/tmp/ipykernel_14531/3428451221.py:106: SettingWithCopyWarning: \n",
      "A value is trying to be set on a copy of a slice from a DataFrame.\n",
      "Try using .loc[row_indexer,col_indexer] = value instead\n",
      "\n",
      "See the caveats in the documentation: https://pandas.pydata.org/pandas-docs/stable/user_guide/indexing.html#returning-a-view-versus-a-copy\n",
      "  valid_df[misc_cont_cols] = scaler.transform(valid_df[misc_cont_cols])\n"
     ]
    }
   ],
   "source": [
    "import numpy as np\n",
    "import pandas as pd\n",
    "import torch\n",
    "from sklearn.preprocessing import MinMaxScaler\n",
    "\n",
    "# Bucharest record min and max temperatures, adjusted according to source\n",
    "# Source: https://www.extremeweatherwatch.com/cities/bucharest/lowest-temperatures\n",
    "BUC_MIN_TEMP = -35\n",
    "BUC_MAX_TEMP = 45\n",
    "\n",
    "N_LAGS = 7\n",
    "\n",
    "\n",
    "def clean_data(df):\n",
    "    # Set the date as the index\n",
    "    index = pd.to_datetime(df[[\"Year\", \"Month\", \"Day\"]])\n",
    "    df.set_index(index, inplace=True)\n",
    "\n",
    "    # Clean rows\n",
    "    # Sea Level Pressure, gets dropped, too many 0, not enough relevant info\n",
    "    corrupted = df[df[\"Sea_Level_Pressure\"] == \"True\"]\n",
    "    df.drop(index=corrupted.index, inplace=True)\n",
    "    df.drop(\"Sea_Level_Pressure\", axis=1, inplace=True)\n",
    "\n",
    "    # Humidity Average, 11 rows with NaN, can drop them\n",
    "    corrupted = df[df[\"Humidity_Avg\"].isna()]\n",
    "    df.drop(index=corrupted.index, inplace=True)\n",
    "\n",
    "    # Precipitation Total, fill Nan with 0\n",
    "    df[\"Precipitation_Total\"].fillna(\"0\", inplace=True)\n",
    "\n",
    "    # Visibility Average, gets dropped, too many NaN values > 10%\n",
    "    df.drop(\"Visibility_Avg\", axis=1, inplace=True)\n",
    "\n",
    "    # Wind Max, contains mostly NaN values, can drop\n",
    "    # We have Wind Sustained Max which is clean\n",
    "    df.drop(\"Wind_Max\", axis=1, inplace=True)\n",
    "\n",
    "    return df\n",
    "\n",
    "\n",
    "def normalize_temp_data(df):\n",
    "    # Create new dataframe\n",
    "    scaled = df.copy(deep=True)\n",
    "\n",
    "    # Scale with record min and max\n",
    "    temp_scaler = MinMaxScaler()\n",
    "    temp_scaler.fit(np.array((BUC_MIN_TEMP, BUC_MAX_TEMP)).reshape(-1, 1))\n",
    "\n",
    "    cols = temp_cols\n",
    "    temp_data = np.array(df[cols]).T\n",
    "    scaled = df.copy(deep=True)\n",
    "    temp_scaled = [temp_scaler.transform(X.reshape(-1, 1)) for X in temp_data]\n",
    "    for idx, col in enumerate(cols):\n",
    "        scaled[col] = temp_scaled[idx]\n",
    "    return scaled, temp_scaler\n",
    "\n",
    "\n",
    "def normalize_data(df):\n",
    "    scaler = MinMaxScaler()\n",
    "    cols = misc_cont_cols\n",
    "    df[cols] = scaler.fit_transform(df[cols])\n",
    "    return df, scaler\n",
    "\n",
    "\n",
    "def build_set(ds, lags=10):\n",
    "    train = []\n",
    "    true = []\n",
    "    for idx in range(len(ds) - lags):\n",
    "        current = ds[idx : idx + lags]\n",
    "        pred = ds[idx + lags][temp_avg_idx]\n",
    "        train.append(current)\n",
    "        true.append(pred)\n",
    "\n",
    "    train = torch.cat([t for t in train]).reshape(-1, lags, ds.shape[1])\n",
    "    true = torch.tensor(true).reshape(-1, 1)\n",
    "    return train, true\n",
    "\n",
    "\n",
    "df = pd.read_csv(\"data.csv\")\n",
    "df = clean_data(df)\n",
    "\n",
    "# Boolean columns\n",
    "cat_cols = [col for col in df.columns if col.startswith(\"Is\")]\n",
    "# Continous columns\n",
    "cont_cols = list(\n",
    "    set(df.columns) - set(cat_cols) - set([\"Year\", \"Month\", \"Day\"])\n",
    ")\n",
    "# Temperature columns\n",
    "temp_cols = [col for col in cont_cols if col.startswith(\"Temperature\")]\n",
    "# Miscellaneous continuous columns -> Humidity, Precipitation, Wind\n",
    "misc_cont_cols = list(set(cont_cols) - set(temp_cols))\n",
    "\n",
    "# Set correct datatypes\n",
    "df[cont_cols] = df[cont_cols].astype(\"float\")\n",
    "\n",
    "# Scale temperatures on the whole dataset\n",
    "scaled, temp_scaler = normalize_temp_data(df)\n",
    "\n",
    "valid_start = \"2022-01-01\"\n",
    "train_df = scaled[:valid_start][:-1]\n",
    "valid_df = scaled[valid_start:]\n",
    "\n",
    "# Scale the rest of the continous columns\n",
    "train_df, scaler = normalize_data(train_df)\n",
    "valid_df[misc_cont_cols] = scaler.transform(valid_df[misc_cont_cols])\n",
    "\n",
    "# Convert to tensors\n",
    "train_cont = torch.tensor(np.stack([train_df[cont_cols]]), dtype=torch.float)\n",
    "train_cat = torch.tensor(np.stack([train_df[cat_cols]]), dtype=torch.float)\n",
    "valid_cont = torch.tensor(np.stack([valid_df[cont_cols]]), dtype=torch.float)\n",
    "valid_cat = torch.tensor(np.stack([valid_df[cat_cols]]), dtype=torch.float)\n",
    "\n",
    "# Create a train and valid dataset\n",
    "train_ds = torch.cat((train_cont, train_cat), dim=2).squeeze()\n",
    "valid_ds = torch.cat((valid_cont, valid_cat), dim=2).squeeze()\n",
    "\n",
    "temp_avg_idx = cont_cols.index(\"Temperature_Avg\")\n",
    "\n",
    "x_train, y_train = build_set(train_ds, N_LAGS)\n",
    "\n",
    "# Add the last N_LAGS elements to valid_ds to ensure continuity\n",
    "x_valid, y_valid = build_set(torch.cat((train_ds[-N_LAGS:], valid_ds)), N_LAGS)\n"
   ]
  },
  {
   "cell_type": "code",
   "execution_count": 2,
   "metadata": {},
   "outputs": [
    {
     "data": {
      "text/plain": [
       "tensor([[0.6216, 0.3318, 0.4750, 0.5325, 0.3419, 0.0000, 0.6150, 1.0000, 0.0000,\n",
       "         0.0000, 0.0000],\n",
       "        [0.9459, 0.3079, 0.4250, 0.4475, 0.4791, 0.0000, 0.5725, 1.0000, 1.0000,\n",
       "         0.0000, 0.0000],\n",
       "        [0.9865, 0.3662, 0.4250, 0.4363, 0.4349, 0.0195, 0.4400, 1.0000, 0.0000,\n",
       "         0.0000, 0.0000],\n",
       "        [1.0000, 0.0867, 0.4250, 0.4338, 0.1465, 0.0332, 0.4412, 1.0000, 1.0000,\n",
       "         0.0000, 1.0000],\n",
       "        [0.9865, 0.1136, 0.4162, 0.4275, 0.1977, 0.0000, 0.4375, 1.0000, 1.0000,\n",
       "         0.0000, 1.0000],\n",
       "        [1.0000, 0.1390, 0.4275, 0.4475, 0.2070, 0.0371, 0.4638, 1.0000, 0.0000,\n",
       "         0.0000, 0.0000],\n",
       "        [1.0000, 0.2242, 0.4500, 0.4737, 0.2767, 0.0039, 0.5088, 1.0000, 0.0000,\n",
       "         0.0000, 1.0000]])"
      ]
     },
     "execution_count": 2,
     "metadata": {},
     "output_type": "execute_result"
    }
   ],
   "source": [
    "train_ds[-N_LAGS:]"
   ]
  },
  {
   "cell_type": "code",
   "execution_count": 3,
   "metadata": {},
   "outputs": [
    {
     "data": {
      "text/plain": [
       "tensor([[0.9324, 0.0867, 0.4625, 0.5238, 0.1372, 0.0019, 0.6000, 1.0000, 0.0000,\n",
       "         0.0000, 1.0000],\n",
       "        [0.8514, 0.1659, 0.4350, 0.5075, 0.1605, 0.0000, 0.5625, 0.0000, 0.0000,\n",
       "         0.0000, 1.0000],\n",
       "        [0.8514, 0.2242, 0.4650, 0.5225, 0.2628, 0.0000, 0.5813, 0.0000, 0.0000,\n",
       "         0.0000, 1.0000],\n",
       "        [0.7027, 0.1659, 0.4663, 0.5200, 0.2279, 0.0000, 0.6012, 0.0000, 0.0000,\n",
       "         0.0000, 0.0000],\n",
       "        [0.7838, 0.2242, 0.4750, 0.5288, 0.2535, 0.0000, 0.6263, 0.0000, 0.0000,\n",
       "         0.0000, 0.0000],\n",
       "        [0.7297, 0.2242, 0.4500, 0.5312, 0.2535, 0.0000, 0.6388, 1.0000, 0.0000,\n",
       "         0.0000, 0.0000],\n",
       "        [0.7568, 0.3318, 0.4563, 0.4750, 0.3140, 0.0000, 0.5638, 1.0000, 0.0000,\n",
       "         0.0000, 0.0000]])"
      ]
     },
     "execution_count": 3,
     "metadata": {},
     "output_type": "execute_result"
    }
   ],
   "source": [
    "valid_ds[:N_LAGS]"
   ]
  },
  {
   "cell_type": "code",
   "execution_count": 4,
   "metadata": {},
   "outputs": [
    {
     "data": {
      "text/plain": [
       "tensor([[[0.6892, 0.1136, 0.3500, 0.3862, 0.1093, 0.0000, 0.4375, 0.0000,\n",
       "          0.0000, 0.0000, 0.0000],\n",
       "         [0.6757, 0.3318, 0.3663, 0.4512, 0.3698, 0.0000, 0.5400, 0.0000,\n",
       "          0.0000, 0.0000, 0.0000],\n",
       "         [0.6216, 0.3318, 0.4750, 0.5325, 0.3419, 0.0000, 0.6150, 1.0000,\n",
       "          0.0000, 0.0000, 0.0000],\n",
       "         [0.9459, 0.3079, 0.4250, 0.4475, 0.4791, 0.0000, 0.5725, 1.0000,\n",
       "          1.0000, 0.0000, 0.0000],\n",
       "         [0.9865, 0.3662, 0.4250, 0.4363, 0.4349, 0.0195, 0.4400, 1.0000,\n",
       "          0.0000, 0.0000, 0.0000],\n",
       "         [1.0000, 0.0867, 0.4250, 0.4338, 0.1465, 0.0332, 0.4412, 1.0000,\n",
       "          1.0000, 0.0000, 1.0000],\n",
       "         [0.9865, 0.1136, 0.4162, 0.4275, 0.1977, 0.0000, 0.4375, 1.0000,\n",
       "          1.0000, 0.0000, 1.0000]],\n",
       "\n",
       "        [[0.6757, 0.3318, 0.3663, 0.4512, 0.3698, 0.0000, 0.5400, 0.0000,\n",
       "          0.0000, 0.0000, 0.0000],\n",
       "         [0.6216, 0.3318, 0.4750, 0.5325, 0.3419, 0.0000, 0.6150, 1.0000,\n",
       "          0.0000, 0.0000, 0.0000],\n",
       "         [0.9459, 0.3079, 0.4250, 0.4475, 0.4791, 0.0000, 0.5725, 1.0000,\n",
       "          1.0000, 0.0000, 0.0000],\n",
       "         [0.9865, 0.3662, 0.4250, 0.4363, 0.4349, 0.0195, 0.4400, 1.0000,\n",
       "          0.0000, 0.0000, 0.0000],\n",
       "         [1.0000, 0.0867, 0.4250, 0.4338, 0.1465, 0.0332, 0.4412, 1.0000,\n",
       "          1.0000, 0.0000, 1.0000],\n",
       "         [0.9865, 0.1136, 0.4162, 0.4275, 0.1977, 0.0000, 0.4375, 1.0000,\n",
       "          1.0000, 0.0000, 1.0000],\n",
       "         [1.0000, 0.1390, 0.4275, 0.4475, 0.2070, 0.0371, 0.4638, 1.0000,\n",
       "          0.0000, 0.0000, 0.0000]]])"
      ]
     },
     "execution_count": 4,
     "metadata": {},
     "output_type": "execute_result"
    }
   ],
   "source": [
    "x_train[-2:]"
   ]
  },
  {
   "cell_type": "code",
   "execution_count": 5,
   "metadata": {},
   "outputs": [
    {
     "data": {
      "text/plain": [
       "tensor([[0.4475],\n",
       "        [0.4737]])"
      ]
     },
     "execution_count": 5,
     "metadata": {},
     "output_type": "execute_result"
    }
   ],
   "source": [
    "y_train[-2:]"
   ]
  },
  {
   "cell_type": "code",
   "execution_count": 6,
   "metadata": {},
   "outputs": [
    {
     "data": {
      "text/plain": [
       "tensor([[0.9324, 0.0867, 0.4625, 0.5238, 0.1372, 0.0019, 0.6000, 1.0000, 0.0000,\n",
       "         0.0000, 1.0000],\n",
       "        [0.8514, 0.1659, 0.4350, 0.5075, 0.1605, 0.0000, 0.5625, 0.0000, 0.0000,\n",
       "         0.0000, 1.0000],\n",
       "        [0.8514, 0.2242, 0.4650, 0.5225, 0.2628, 0.0000, 0.5813, 0.0000, 0.0000,\n",
       "         0.0000, 1.0000],\n",
       "        [0.7027, 0.1659, 0.4663, 0.5200, 0.2279, 0.0000, 0.6012, 0.0000, 0.0000,\n",
       "         0.0000, 0.0000],\n",
       "        [0.7838, 0.2242, 0.4750, 0.5288, 0.2535, 0.0000, 0.6263, 0.0000, 0.0000,\n",
       "         0.0000, 0.0000],\n",
       "        [0.7297, 0.2242, 0.4500, 0.5312, 0.2535, 0.0000, 0.6388, 1.0000, 0.0000,\n",
       "         0.0000, 0.0000],\n",
       "        [0.7568, 0.3318, 0.4563, 0.4750, 0.3140, 0.0000, 0.5638, 1.0000, 0.0000,\n",
       "         0.0000, 0.0000]])"
      ]
     },
     "execution_count": 6,
     "metadata": {},
     "output_type": "execute_result"
    }
   ],
   "source": [
    "valid_ds[:N_LAGS]"
   ]
  },
  {
   "cell_type": "code",
   "execution_count": 7,
   "metadata": {},
   "outputs": [
    {
     "data": {
      "text/plain": [
       "tensor([[[0.6216, 0.3318, 0.4750, 0.5325, 0.3419, 0.0000, 0.6150, 1.0000,\n",
       "          0.0000, 0.0000, 0.0000],\n",
       "         [0.9459, 0.3079, 0.4250, 0.4475, 0.4791, 0.0000, 0.5725, 1.0000,\n",
       "          1.0000, 0.0000, 0.0000],\n",
       "         [0.9865, 0.3662, 0.4250, 0.4363, 0.4349, 0.0195, 0.4400, 1.0000,\n",
       "          0.0000, 0.0000, 0.0000],\n",
       "         [1.0000, 0.0867, 0.4250, 0.4338, 0.1465, 0.0332, 0.4412, 1.0000,\n",
       "          1.0000, 0.0000, 1.0000],\n",
       "         [0.9865, 0.1136, 0.4162, 0.4275, 0.1977, 0.0000, 0.4375, 1.0000,\n",
       "          1.0000, 0.0000, 1.0000],\n",
       "         [1.0000, 0.1390, 0.4275, 0.4475, 0.2070, 0.0371, 0.4638, 1.0000,\n",
       "          0.0000, 0.0000, 0.0000],\n",
       "         [1.0000, 0.2242, 0.4500, 0.4737, 0.2767, 0.0039, 0.5088, 1.0000,\n",
       "          0.0000, 0.0000, 1.0000]],\n",
       "\n",
       "        [[0.9459, 0.3079, 0.4250, 0.4475, 0.4791, 0.0000, 0.5725, 1.0000,\n",
       "          1.0000, 0.0000, 0.0000],\n",
       "         [0.9865, 0.3662, 0.4250, 0.4363, 0.4349, 0.0195, 0.4400, 1.0000,\n",
       "          0.0000, 0.0000, 0.0000],\n",
       "         [1.0000, 0.0867, 0.4250, 0.4338, 0.1465, 0.0332, 0.4412, 1.0000,\n",
       "          1.0000, 0.0000, 1.0000],\n",
       "         [0.9865, 0.1136, 0.4162, 0.4275, 0.1977, 0.0000, 0.4375, 1.0000,\n",
       "          1.0000, 0.0000, 1.0000],\n",
       "         [1.0000, 0.1390, 0.4275, 0.4475, 0.2070, 0.0371, 0.4638, 1.0000,\n",
       "          0.0000, 0.0000, 0.0000],\n",
       "         [1.0000, 0.2242, 0.4500, 0.4737, 0.2767, 0.0039, 0.5088, 1.0000,\n",
       "          0.0000, 0.0000, 1.0000],\n",
       "         [0.9324, 0.0867, 0.4625, 0.5238, 0.1372, 0.0019, 0.6000, 1.0000,\n",
       "          0.0000, 0.0000, 1.0000]]])"
      ]
     },
     "execution_count": 7,
     "metadata": {},
     "output_type": "execute_result"
    }
   ],
   "source": [
    "x_valid[:2]"
   ]
  },
  {
   "cell_type": "code",
   "execution_count": 8,
   "metadata": {},
   "outputs": [
    {
     "data": {
      "text/plain": [
       "tensor([[0.5238],\n",
       "        [0.5075]])"
      ]
     },
     "execution_count": 8,
     "metadata": {},
     "output_type": "execute_result"
    }
   ],
   "source": [
    "y_valid[:2]"
   ]
  },
  {
   "cell_type": "code",
   "execution_count": 9,
   "metadata": {},
   "outputs": [
    {
     "name": "stdout",
     "output_type": "stream",
     "text": [
      "torch.Size([1788, 7, 11])\n",
      "torch.Size([361, 7, 11])\n"
     ]
    }
   ],
   "source": [
    "print(x_train.shape)\n",
    "print(x_valid.shape)"
   ]
  },
  {
   "cell_type": "markdown",
   "metadata": {},
   "source": [
    "## Build LSTM model"
   ]
  },
  {
   "cell_type": "code",
   "execution_count": 10,
   "metadata": {},
   "outputs": [
    {
     "data": {
      "text/plain": [
       "torch.Size([7, 11])"
      ]
     },
     "execution_count": 10,
     "metadata": {},
     "output_type": "execute_result"
    }
   ],
   "source": [
    "x_train[0].shape"
   ]
  },
  {
   "cell_type": "code",
   "execution_count": 11,
   "metadata": {},
   "outputs": [
    {
     "data": {
      "text/plain": [
       "tensor([0.2925])"
      ]
     },
     "execution_count": 11,
     "metadata": {},
     "output_type": "execute_result"
    }
   ],
   "source": [
    "y_train[0]"
   ]
  },
  {
   "cell_type": "code",
   "execution_count": 12,
   "metadata": {},
   "outputs": [],
   "source": [
    "import torch.nn as nn\n",
    "\n",
    "NUM_LAYERS = 3\n",
    "HIDDEN_SIZE = 128\n",
    "\n",
    "lstm = nn.LSTM(input_size=train_ds.shape[1], hidden_size=HIDDEN_SIZE, num_layers=NUM_LAYERS)\n",
    "hidden = (\n",
    "    torch.zeros(NUM_LAYERS, HIDDEN_SIZE),\n",
    "    torch.zeros(NUM_LAYERS, HIDDEN_SIZE),\n",
    ")\n",
    "\n",
    "out, hidden = lstm(x_train[0], hidden)\n",
    "\n",
    "dropout = nn.Dropout(0.5)\n",
    "\n",
    "out = dropout(out)\n",
    "\n",
    "fc = nn.Linear(in_features=HIDDEN_SIZE, out_features=1)\n",
    "\n",
    "out = fc(out)"
   ]
  },
  {
   "cell_type": "code",
   "execution_count": 13,
   "metadata": {},
   "outputs": [
    {
     "data": {
      "text/plain": [
       "torch.Size([7, 1])"
      ]
     },
     "execution_count": 13,
     "metadata": {},
     "output_type": "execute_result"
    }
   ],
   "source": [
    "out.shape"
   ]
  },
  {
   "cell_type": "code",
   "execution_count": 14,
   "metadata": {},
   "outputs": [
    {
     "data": {
      "text/plain": [
       "tensor([[-0.0185],\n",
       "        [-0.0359],\n",
       "        [-0.0142],\n",
       "        [-0.0674],\n",
       "        [-0.0486],\n",
       "        [-0.0361],\n",
       "        [-0.0329]], grad_fn=<AddmmBackward0>)"
      ]
     },
     "execution_count": 14,
     "metadata": {},
     "output_type": "execute_result"
    }
   ],
   "source": [
    "out"
   ]
  },
  {
   "cell_type": "code",
   "execution_count": 15,
   "metadata": {},
   "outputs": [
    {
     "data": {
      "text/plain": [
       "device(type='cuda')"
      ]
     },
     "execution_count": 15,
     "metadata": {},
     "output_type": "execute_result"
    }
   ],
   "source": [
    "device = torch.device(\"cuda\" if torch.cuda.is_available() else \"cpu\")\n",
    "device"
   ]
  },
  {
   "cell_type": "code",
   "execution_count": 16,
   "metadata": {},
   "outputs": [],
   "source": [
    "class MyLSTM(nn.Module):\n",
    "    def __init__(self, input_size, hidden_size=128, num_layers=4, output_size=1, dropout=0.5):\n",
    "        super().__init__()\n",
    "\n",
    "        self.num_layers = num_layers\n",
    "        self.hidden_size = hidden_size\n",
    "\n",
    "        self.lstm = nn.LSTM(input_size=input_size, hidden_size=hidden_size, num_layers=num_layers, dropout=dropout)\n",
    "        self.dropout = nn.Dropout(dropout)\n",
    "        self.fc = nn.Linear(in_features=hidden_size, out_features=output_size)\n",
    "\n",
    "    def forward(self, X, hidden):\n",
    "        out, hidden = self.lstm(X, hidden)\n",
    "        out = self.dropout(out)\n",
    "        out = self.fc(out)\n",
    "        # Only care about last prediction\n",
    "        return out[-1], hidden\n",
    "\n",
    "    def initialize_hidden(self):\n",
    "        hidden = (\n",
    "            torch.zeros(self.num_layers, self.hidden_size).to(device),\n",
    "            torch.zeros(self.num_layers, self.hidden_size).to(device),\n",
    "        )\n",
    "        return hidden"
   ]
  },
  {
   "cell_type": "code",
   "execution_count": 17,
   "metadata": {},
   "outputs": [
    {
     "data": {
      "text/plain": [
       "MyLSTM(\n",
       "  (lstm): LSTM(11, 128, num_layers=4, dropout=0.5)\n",
       "  (dropout): Dropout(p=0.5, inplace=False)\n",
       "  (fc): Linear(in_features=128, out_features=1, bias=True)\n",
       ")"
      ]
     },
     "execution_count": 17,
     "metadata": {},
     "output_type": "execute_result"
    }
   ],
   "source": [
    "model = MyLSTM(input_size=train_ds.shape[1]).to(device)\n",
    "model"
   ]
  },
  {
   "cell_type": "code",
   "execution_count": 18,
   "metadata": {},
   "outputs": [
    {
     "data": {
      "text/plain": [
       "1874944"
      ]
     },
     "execution_count": 18,
     "metadata": {},
     "output_type": "execute_result"
    }
   ],
   "source": [
    "torch.cuda.memory_allocated()"
   ]
  },
  {
   "cell_type": "code",
   "execution_count": 19,
   "metadata": {},
   "outputs": [
    {
     "name": "stdout",
     "output_type": "stream",
     "text": [
      "torch.Size([512, 11])\n",
      "5632\n",
      "torch.Size([512, 128])\n",
      "65536\n",
      "torch.Size([512])\n",
      "512\n",
      "torch.Size([512])\n",
      "512\n",
      "torch.Size([512, 128])\n",
      "65536\n",
      "torch.Size([512, 128])\n",
      "65536\n",
      "torch.Size([512])\n",
      "512\n",
      "torch.Size([512])\n",
      "512\n",
      "torch.Size([512, 128])\n",
      "65536\n",
      "torch.Size([512, 128])\n",
      "65536\n",
      "torch.Size([512])\n",
      "512\n",
      "torch.Size([512])\n",
      "512\n",
      "torch.Size([512, 128])\n",
      "65536\n",
      "torch.Size([512, 128])\n",
      "65536\n",
      "torch.Size([512])\n",
      "512\n",
      "torch.Size([512])\n",
      "512\n",
      "torch.Size([1, 128])\n",
      "128\n",
      "torch.Size([1])\n",
      "1\n",
      "---------\n",
      "Number of parameters: 468609\n"
     ]
    }
   ],
   "source": [
    "count = 0\n",
    "for p in model.parameters():\n",
    "    print(p.shape)\n",
    "    if p.requires_grad:\n",
    "        print(p.numel())\n",
    "        count += p.numel()\n",
    "print('---------\\nNumber of parameters:', count)"
   ]
  },
  {
   "cell_type": "code",
   "execution_count": 20,
   "metadata": {},
   "outputs": [],
   "source": [
    "# hidden = model.initialize_hidden()\n",
    "# out, hidden = model.forward(x_train[0], hidden)"
   ]
  },
  {
   "cell_type": "code",
   "execution_count": 21,
   "metadata": {},
   "outputs": [
    {
     "data": {
      "text/plain": [
       "tensor([[-0.0185],\n",
       "        [-0.0359],\n",
       "        [-0.0142],\n",
       "        [-0.0674],\n",
       "        [-0.0486],\n",
       "        [-0.0361],\n",
       "        [-0.0329]], grad_fn=<AddmmBackward0>)"
      ]
     },
     "execution_count": 21,
     "metadata": {},
     "output_type": "execute_result"
    }
   ],
   "source": [
    "out"
   ]
  },
  {
   "cell_type": "code",
   "execution_count": 22,
   "metadata": {},
   "outputs": [
    {
     "data": {
      "text/plain": [
       "True"
      ]
     },
     "execution_count": 22,
     "metadata": {},
     "output_type": "execute_result"
    }
   ],
   "source": [
    "torch.cuda.is_available()"
   ]
  },
  {
   "cell_type": "markdown",
   "metadata": {},
   "source": [
    "## Train the model"
   ]
  },
  {
   "cell_type": "code",
   "execution_count": 23,
   "metadata": {},
   "outputs": [
    {
     "data": {
      "text/plain": [
       "5"
      ]
     },
     "execution_count": 23,
     "metadata": {},
     "output_type": "execute_result"
    }
   ],
   "source": [
    "x_train.shape[0] // 300"
   ]
  },
  {
   "cell_type": "code",
   "execution_count": 24,
   "metadata": {},
   "outputs": [
    {
     "name": "stdout",
     "output_type": "stream",
     "text": [
      "tensor([[0.6757, 0.1659, 0.3625, 0.4125, 0.2465, 0.0000, 0.5000, 0.0000, 0.0000,\n",
      "         0.0000, 0.0000],\n",
      "        [0.6081, 0.2526, 0.3625, 0.4175, 0.2419, 0.0000, 0.5163, 0.0000, 0.0000,\n",
      "         0.0000, 0.0000],\n",
      "        [0.6081, 0.1659, 0.3500, 0.4212, 0.1163, 0.0000, 0.5025, 0.0000, 0.0000,\n",
      "         0.0000, 0.0000],\n",
      "        [0.6622, 0.2242, 0.3462, 0.4125, 0.2116, 0.0000, 0.4950, 0.0000, 0.0000,\n",
      "         0.0000, 0.0000],\n",
      "        [0.6892, 0.5590, 0.4250, 0.4525, 0.2070, 0.0000, 0.4888, 1.0000, 1.0000,\n",
      "         0.0000, 0.0000],\n",
      "        [0.9054, 0.5262, 0.3125, 0.3875, 0.4047, 0.0312, 0.4675, 0.0000, 1.0000,\n",
      "         0.0000, 0.0000],\n",
      "        [0.8649, 0.2003, 0.2875, 0.3150, 0.2372, 0.0078, 0.3475, 0.0000, 1.0000,\n",
      "         0.0000, 0.0000]])\n",
      "tensor([0.2925])\n"
     ]
    }
   ],
   "source": [
    "for x, y in zip(x_train, y_train):\n",
    "    break\n",
    "\n",
    "print(x)\n",
    "print(y)"
   ]
  },
  {
   "cell_type": "code",
   "execution_count": 25,
   "metadata": {},
   "outputs": [],
   "source": [
    "criterion = nn.MSELoss()\n",
    "optimizer = torch.optim.Adam(model.parameters(), lr=0.001)"
   ]
  },
  {
   "cell_type": "code",
   "execution_count": 26,
   "metadata": {},
   "outputs": [
    {
     "name": "stderr",
     "output_type": "stream",
     "text": [
      "/home/horia/master_siva/an2_sem1/ic3/venv/lib/python3.8/site-packages/torch/nn/modules/loss.py:535: UserWarning: Using a target size (torch.Size([1])) that is different to the input size (torch.Size([7, 1])). This will likely lead to incorrect results due to broadcasting. Please ensure they have the same size.\n",
      "  return F.mse_loss(input, target, reduction=self.reduction)\n"
     ]
    },
    {
     "data": {
      "text/plain": [
       "0.10833178460597992"
      ]
     },
     "execution_count": 26,
     "metadata": {},
     "output_type": "execute_result"
    }
   ],
   "source": [
    "criterion(out, y).item()"
   ]
  },
  {
   "cell_type": "code",
   "execution_count": 27,
   "metadata": {},
   "outputs": [
    {
     "data": {
      "text/plain": [
       "361"
      ]
     },
     "execution_count": 27,
     "metadata": {},
     "output_type": "execute_result"
    }
   ],
   "source": [
    "len(x_valid)"
   ]
  },
  {
   "cell_type": "code",
   "execution_count": 28,
   "metadata": {},
   "outputs": [
    {
     "data": {
      "text/plain": [
       "defaultdict(list, {0: ['ceva']})"
      ]
     },
     "execution_count": 28,
     "metadata": {},
     "output_type": "execute_result"
    }
   ],
   "source": [
    "from collections import defaultdict\n",
    "\n",
    "loss = defaultdict(list)\n",
    "\n",
    "loss[0].append('ceva')\n",
    "\n",
    "loss"
   ]
  },
  {
   "cell_type": "code",
   "execution_count": 29,
   "metadata": {},
   "outputs": [
    {
     "data": {
      "text/plain": [
       "defaultdict(list, {0: ['ceva'], 5: ['da']})"
      ]
     },
     "execution_count": 29,
     "metadata": {},
     "output_type": "execute_result"
    }
   ],
   "source": [
    "loss[5].append('da')\n",
    "loss"
   ]
  },
  {
   "cell_type": "code",
   "execution_count": 30,
   "metadata": {},
   "outputs": [
    {
     "name": "stdout",
     "output_type": "stream",
     "text": [
      "50\n"
     ]
    }
   ],
   "source": [
    "n = 50\n",
    "l = len(str(n))\n",
    "print(f\"{n:{l}}\")"
   ]
  },
  {
   "cell_type": "code",
   "execution_count": 31,
   "metadata": {},
   "outputs": [],
   "source": [
    "import time\n",
    "from collections import defaultdict\n",
    "\n",
    "def train_model(model, train_valid: tuple, criterion, optimizer, epochs=50):\n",
    "    start = time.time()\n",
    "\n",
    "    train_loss = defaultdict(list)\n",
    "    valid_loss = defaultdict(list)\n",
    "\n",
    "    x_train, y_train, x_valid, y_valid = train_valid\n",
    "\n",
    "    for epoch in range(epochs):\n",
    "        hidden = model.initialize_hidden()\n",
    "        sample = 0\n",
    "        for X, y_true in zip(x_train, y_train):\n",
    "            sample += 1\n",
    "\n",
    "            X = X.to(device)\n",
    "            y_true = y_true.to(device)\n",
    "\n",
    "            # Reset hidden state\n",
    "            hidden = tuple([state.data for state in hidden])\n",
    "\n",
    "            optimizer.zero_grad()\n",
    "\n",
    "            y_pred, hidden = model.forward(X, hidden)\n",
    "            loss = criterion(y_pred, y_true)\n",
    "\n",
    "            loss.backward()\n",
    "            optimizer.step()\n",
    "\n",
    "            if sample % 300 == 0:\n",
    "                train_loss[epoch].append(loss.item())\n",
    "\n",
    "                val_hidden = model.initialize_hidden()\n",
    "\n",
    "                total_val_loss = 0\n",
    "\n",
    "                model.eval()\n",
    "                for X_val, y_val_true in zip(x_valid, y_valid):\n",
    "                    X_val = X_val.to(device)\n",
    "                    y_val_true = y_val_true.to(device)\n",
    "\n",
    "                    val_hidden = tuple([state.data for state in val_hidden])\n",
    "\n",
    "                    y_val_pred, val_hidden = model.forward(X_val, val_hidden)\n",
    "                    val_loss = criterion(y_val_pred, y_val_true)\n",
    "\n",
    "                    total_val_loss += val_loss.item()\n",
    "\n",
    "                avg_loss = total_val_loss / len(x_valid)\n",
    "                valid_loss[epoch].append(avg_loss)\n",
    "\n",
    "                model.train()\n",
    "\n",
    "                print(f\"Epoch: {epoch:{len(str(epochs))}} Sample: {sample:{len(str(x_train.shape[0]))}} Train Loss: {loss.item():3.8f} Avg Valid Loss: {avg_loss}\")\n",
    "\n",
    "    end = time.time()\n",
    "    print(f\"Duration = {end - start} seconds\")\n",
    "\n",
    "    return train_loss, valid_loss"
   ]
  },
  {
   "cell_type": "code",
   "execution_count": 32,
   "metadata": {},
   "outputs": [
    {
     "name": "stdout",
     "output_type": "stream",
     "text": [
      "Epoch:  0 Sample:  300 Train Loss: 0.00013301 Avg Valid Loss: 0.019230159879201455\n",
      "Epoch:  0 Sample:  600 Train Loss: 0.00008512 Avg Valid Loss: 0.02301890809327961\n",
      "Epoch:  0 Sample:  900 Train Loss: 0.01347268 Avg Valid Loss: 0.020197028011631677\n",
      "Epoch:  0 Sample: 1200 Train Loss: 0.00309737 Avg Valid Loss: 0.017980020798573238\n",
      "Epoch:  0 Sample: 1500 Train Loss: 0.00369699 Avg Valid Loss: 0.022369278002289005\n",
      "Epoch:  1 Sample:  300 Train Loss: 0.00875286 Avg Valid Loss: 0.012980563746236976\n",
      "Epoch:  1 Sample:  600 Train Loss: 0.00379252 Avg Valid Loss: 0.03904289389283848\n",
      "Epoch:  1 Sample:  900 Train Loss: 0.00425653 Avg Valid Loss: 0.02138661488850336\n",
      "Epoch:  1 Sample: 1200 Train Loss: 0.00309960 Avg Valid Loss: 0.01909612338741273\n",
      "Epoch:  1 Sample: 1500 Train Loss: 0.00075625 Avg Valid Loss: 0.023136312700647216\n",
      "Epoch:  2 Sample:  300 Train Loss: 0.00057610 Avg Valid Loss: 0.01402631218137083\n",
      "Epoch:  2 Sample:  600 Train Loss: 0.00040095 Avg Valid Loss: 0.035322411872887156\n",
      "Epoch:  2 Sample:  900 Train Loss: 0.00180335 Avg Valid Loss: 0.020064723767851473\n",
      "Epoch:  2 Sample: 1200 Train Loss: 0.00020972 Avg Valid Loss: 0.01648360158176504\n",
      "Epoch:  2 Sample: 1500 Train Loss: 0.00050930 Avg Valid Loss: 0.02366475838760558\n",
      "Epoch:  3 Sample:  300 Train Loss: 0.00006204 Avg Valid Loss: 0.013490150598269373\n",
      "Epoch:  3 Sample:  600 Train Loss: 0.00277062 Avg Valid Loss: 0.03133550160476012\n",
      "Epoch:  3 Sample:  900 Train Loss: 0.00002651 Avg Valid Loss: 0.0184403411306485\n",
      "Epoch:  3 Sample: 1200 Train Loss: 0.00001741 Avg Valid Loss: 0.016901127299275464\n",
      "Epoch:  3 Sample: 1500 Train Loss: 0.00007593 Avg Valid Loss: 0.0261722959739129\n",
      "Epoch:  4 Sample:  300 Train Loss: 0.00003132 Avg Valid Loss: 0.013621627243404802\n",
      "Epoch:  4 Sample:  600 Train Loss: 0.00026256 Avg Valid Loss: 0.03301699852482976\n",
      "Epoch:  4 Sample:  900 Train Loss: 0.00058697 Avg Valid Loss: 0.019575923766682532\n",
      "Epoch:  4 Sample: 1200 Train Loss: 0.00013478 Avg Valid Loss: 0.01475562249362282\n",
      "Epoch:  4 Sample: 1500 Train Loss: 0.00036063 Avg Valid Loss: 0.02647553823919522\n",
      "Epoch:  5 Sample:  300 Train Loss: 0.00003960 Avg Valid Loss: 0.013209933455215386\n",
      "Epoch:  5 Sample:  600 Train Loss: 0.00114177 Avg Valid Loss: 0.02980989704695761\n",
      "Epoch:  5 Sample:  900 Train Loss: 0.00574075 Avg Valid Loss: 0.017126234787179676\n",
      "Epoch:  5 Sample: 1200 Train Loss: 0.00092842 Avg Valid Loss: 0.013500430504056764\n",
      "Epoch:  5 Sample: 1500 Train Loss: 0.00048801 Avg Valid Loss: 0.025665469803394316\n",
      "Epoch:  6 Sample:  300 Train Loss: 0.00016165 Avg Valid Loss: 0.012668682854306758\n",
      "Epoch:  6 Sample:  600 Train Loss: 0.00078274 Avg Valid Loss: 0.033576435286030736\n",
      "Epoch:  6 Sample:  900 Train Loss: 0.00093516 Avg Valid Loss: 0.01685434105683645\n",
      "Epoch:  6 Sample: 1200 Train Loss: 0.00433380 Avg Valid Loss: 0.012325697160666402\n",
      "Epoch:  6 Sample: 1500 Train Loss: 0.00006026 Avg Valid Loss: 0.023426797537638835\n",
      "Epoch:  7 Sample:  300 Train Loss: 0.00130350 Avg Valid Loss: 0.01231304648102869\n",
      "Epoch:  7 Sample:  600 Train Loss: 0.00070020 Avg Valid Loss: 0.029538892559850042\n",
      "Epoch:  7 Sample:  900 Train Loss: 0.00209020 Avg Valid Loss: 0.021300209626024\n",
      "Epoch:  7 Sample: 1200 Train Loss: 0.00315487 Avg Valid Loss: 0.01233148423040073\n",
      "Epoch:  7 Sample: 1500 Train Loss: 0.00054257 Avg Valid Loss: 0.023444668366517967\n",
      "Epoch:  8 Sample:  300 Train Loss: 0.00148971 Avg Valid Loss: 0.012313138882811915\n",
      "Epoch:  8 Sample:  600 Train Loss: 0.00055578 Avg Valid Loss: 0.03104348861070365\n",
      "Epoch:  8 Sample:  900 Train Loss: 0.00000425 Avg Valid Loss: 0.02398422731168371\n",
      "Epoch:  8 Sample: 1200 Train Loss: 0.00480937 Avg Valid Loss: 0.012344351502521687\n",
      "Epoch:  8 Sample: 1500 Train Loss: 0.00000107 Avg Valid Loss: 0.02384857998941181\n",
      "Epoch:  9 Sample:  300 Train Loss: 0.00096309 Avg Valid Loss: 0.012381788553722795\n",
      "Epoch:  9 Sample:  600 Train Loss: 0.00347586 Avg Valid Loss: 0.035151141929158795\n",
      "Epoch:  9 Sample:  900 Train Loss: 0.00137943 Avg Valid Loss: 0.021182849025071424\n",
      "Epoch:  9 Sample: 1200 Train Loss: 0.00464150 Avg Valid Loss: 0.012331827148136914\n",
      "Epoch:  9 Sample: 1500 Train Loss: 0.00000358 Avg Valid Loss: 0.02716783206236268\n",
      "Duration = 50.891584157943726 seconds\n"
     ]
    }
   ],
   "source": [
    "train_loss, valid_loss = train_model(model, (x_train, y_train, x_valid, y_valid), criterion, optimizer, epochs=10)"
   ]
  },
  {
   "cell_type": "code",
   "execution_count": 33,
   "metadata": {},
   "outputs": [],
   "source": [
    "tloss = [np.array(v).sum() / len(v) for k,v in train_loss.items()]"
   ]
  },
  {
   "cell_type": "code",
   "execution_count": 34,
   "metadata": {},
   "outputs": [],
   "source": [
    "vloss = [np.array(v).sum() / len(v) for k,v in valid_loss.items()]"
   ]
  },
  {
   "cell_type": "code",
   "execution_count": 35,
   "metadata": {},
   "outputs": [
    {
     "data": {
      "text/plain": [
       "[<matplotlib.lines.Line2D at 0x7f89125e75b0>]"
      ]
     },
     "execution_count": 35,
     "metadata": {},
     "output_type": "execute_result"
    },
    {
     "data": {
      "image/png": "[encoded data removed]",
      "text/plain": [
       "<Figure size 640x480 with 1 Axes>"
      ]
     },
     "metadata": {},
     "output_type": "display_data"
    }
   ],
   "source": [
    "import matplotlib.pyplot as plt\n",
    "\n",
    "plt.plot(tloss)\n",
    "plt.plot(vloss)"
   ]
  }
 ],
 "metadata": {
  "kernelspec": {
   "display_name": "venv",
   "language": "python",
   "name": "python3"
  },
  "language_info": {
   "codemirror_mode": {
    "name": "ipython",
    "version": 3
   },
   "file_extension": ".py",
   "mimetype": "text/x-python",
   "name": "python",
   "nbconvert_exporter": "python",
   "pygments_lexer": "ipython3",
   "version": "3.8.10"
  }
 },
 "nbformat": 4,
 "nbformat_minor": 2
}
